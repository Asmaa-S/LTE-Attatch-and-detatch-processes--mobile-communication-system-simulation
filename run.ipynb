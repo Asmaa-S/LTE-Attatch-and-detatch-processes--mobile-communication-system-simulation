{
 "cells": [
  {
   "cell_type": "code",
   "execution_count": 1,
   "id": "ccc76977",
   "metadata": {},
   "outputs": [],
   "source": [
    "import LTE_modules"
   ]
  },
  {
   "cell_type": "code",
   "execution_count": 2,
   "id": "c80d2970",
   "metadata": {},
   "outputs": [],
   "source": [
    "ue = LTE_modules.UE()\n",
    "enb = LTE_modules.eNb()\n",
    "mme = LTE_modules.MME()\n",
    "hss = LTE_modules.HSS()\n",
    "sgw = LTE_modules.SGW()\n",
    "pgw = LTE_modules.PGW()"
   ]
  },
  {
   "cell_type": "code",
   "execution_count": 3,
   "id": "d09db1ce",
   "metadata": {},
   "outputs": [
    {
     "name": "stdout",
     "output_type": "stream",
     "text": [
      "MME  has connection from ('127.0.0.1', 36296)\n",
      "MME  has a message received:   DETACH REQUEST\n",
      "SGW  has connection from ('127.0.0.1', 43254)\n",
      "SGW  has a message received:   DELETE SESSION REQUEST\n",
      "MME  has connection from ('127.0.0.1', 36300)\n",
      "MME  has a message received:   DELETE SESSION RESPONSE\n",
      "UE  has connection from ('127.0.0.1', 40170)\n",
      "UE  has a message received:   DETACH ACCEPT\n",
      "eNb  has connection from ('127.0.0.1', 57684)\n",
      "eNb  has a message received:   UE CONTEXT RELEASE COMMAND\n",
      "MME  has connection from ('127.0.0.1', 36306)\n",
      "MME  has a message received:   UE CONTEXT RELEASE COMPLETE\n",
      "mme: Detach procedures done!\n",
      "eNb  has connection from ('127.0.0.1', 57688)\n",
      "eNb  has a message received:   STOP LISTENING\n",
      "MME  has connection from ('127.0.0.1', 36310)\n",
      "MME  has a message received:   STOP LISTENING\n",
      "SGW  has connection from ('127.0.0.1', 43268)\n",
      "SGW  has a message received:   STOP LISTENING\n",
      "PGW  has connection from ('127.0.0.1', 50558)\n",
      "PGW  has a message received:  UE STOP LISTENING\n",
      "  has connection from ('127.0.0.1', 40184)\n",
      "UE  has a message received:   STOP LISTENING\n"
     ]
    }
   ],
   "source": [
    "ue.detach()"
   ]
  },
  {
   "cell_type": "code",
   "execution_count": 3,
   "id": "58213a0d",
   "metadata": {},
   "outputs": [
    {
     "name": "stdout",
     "output_type": "stream",
     "text": [
      "eNb  has connection from ('127.0.0.1', 57794)\n",
      "eNb  has a message received:   ATTACH REQUEST FROM UE AT ADDRESS|5000-IMSI=139368946856\n",
      "MME  has connection from ('127.0.0.1', 36416)\n",
      "MME  has a message received:   ATTACH REQUEST FROM eNb AT ADDRESS|5001-IMSI=139368946856\n",
      "HSS  has connection from ('127.0.0.1', 54598)\n",
      "HSS  has a message received:   UPDATE LOCATION REQUEST FROM MME AT ADDRESS|5003-IMSI=139368946856\n",
      "MME  has connection from ('127.0.0.1', 36420)\n",
      "MME  has a message received:   UPDATE LOCATION ACKNOWLEDGEMENT\n",
      "SGW  has connection from ('127.0.0.1', 43378)\n",
      "SGW  has a message received:   CREATE SESSION REQUEST FROM MME AT ADDRESS|5003-IMSI=139368946856\n",
      "PGW  has connection from ('127.0.0.1', 50668)\n",
      "PGW  has a message received:   CREATE SESSION REQUEST FROM SGW AT ADDRESS|5006-IMSI=139368946856\n",
      "SGW  has connection from ('127.0.0.1', 43382)\n",
      "SGW  has a message received:   CREATE SESSION RESPONSE\n",
      "MME  has connection from ('127.0.0.1', 36428)\n",
      "MME  has a message received:   CREATE SESSION RESPONSE\n",
      "eNb  has connection from ('127.0.0.1', 57810)\n",
      "eNb  has a message received:   ATTACH ACCEPT / INITAL CONTEXT SETUP REQUEST\n",
      "UE  has connection from ('127.0.0.1', 40300)\n",
      "UE  has a message received:   ATTACH ACCEPT \n",
      "MME  has connection from UE('127.0.0.1', 36436)\n",
      "MME  has a message received:    INITAL CONTEXT SETUP RESPONSE\n",
      " has connection from ('127.0.0.1', 40302)\n",
      "UE  has a message received:   RRC RECONFIGURATION\n",
      "MME  has connection from ('127.0.0.1', 36438)\n",
      "MME  has a message received:   ATTACH COMPLETE\n",
      "SGW  has connection from ('127.0.0.1', 43396)\n",
      "SGW  has a message received:   MODIFY BEARER REQUEST\n",
      "MME  has connection from ('127.0.0.1', 36442)\n",
      "MME  has a message received:   MODIFY BEARER RESPONSE\n",
      "mme: Attach procedures done!\n",
      "eNb  has connection from ('127.0.0.1', 57824)\n",
      "eNb  has a message received:   STOP LISTENING\n",
      "MME  has connection from ('127.0.0.1', 36446)\n",
      "MME  has a message received:   STOP LISTENING\n",
      "SGW  has connection from ('127.0.0.1', 43404)\n",
      "SGW  has a message received:   STOP LISTENING\n",
      "PGW  has connection from ('127.0.0.1', 50694)\n",
      "PGW  has a message received:   STOP LISTENING\n",
      "UE  has connection from ('127.0.0.1', 40320)\n",
      "UE  has a message received:   STOP LISTENING\n"
     ]
    }
   ],
   "source": [
    "ue.attach()"
   ]
  },
  {
   "cell_type": "code",
   "execution_count": null,
   "id": "971a79d8",
   "metadata": {},
   "outputs": [],
   "source": []
  },
  {
   "cell_type": "code",
   "execution_count": null,
   "id": "006f03f6",
   "metadata": {},
   "outputs": [],
   "source": []
  },
  {
   "cell_type": "code",
   "execution_count": null,
   "id": "a3a2c1d9",
   "metadata": {},
   "outputs": [],
   "source": []
  },
  {
   "cell_type": "code",
   "execution_count": null,
   "id": "f99a9da4",
   "metadata": {},
   "outputs": [],
   "source": []
  },
  {
   "cell_type": "code",
   "execution_count": null,
   "id": "8b4847de",
   "metadata": {},
   "outputs": [],
   "source": []
  },
  {
   "cell_type": "code",
   "execution_count": null,
   "id": "bc33976d",
   "metadata": {},
   "outputs": [],
   "source": []
  }
 ],
 "metadata": {
  "kernelspec": {
   "display_name": "Python 3",
   "language": "python",
   "name": "python3"
  },
  "language_info": {
   "codemirror_mode": {
    "name": "ipython",
    "version": 3
   },
   "file_extension": ".py",
   "mimetype": "text/x-python",
   "name": "python",
   "nbconvert_exporter": "python",
   "pygments_lexer": "ipython3",
   "version": "3.8.10"
  }
 },
 "nbformat": 4,
 "nbformat_minor": 5
}
